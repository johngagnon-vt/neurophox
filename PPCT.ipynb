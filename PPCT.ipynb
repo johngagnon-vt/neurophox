{
 "cells": [
  {
   "cell_type": "markdown",
   "metadata": {},
   "source": [
    "# **PPCT**"
   ]
  },
  {
   "cell_type": "code",
   "execution_count": null,
   "metadata": {
    "ExecuteTime": {
     "end_time": "2024-02-04T03:44:56.145460589Z",
     "start_time": "2024-02-04T03:44:56.105028232Z"
    }
   },
   "outputs": [],
   "source": [
    "import scipy.stats\n",
    "import tensorflow as tf\n",
    "import numpy as np\n",
    "import matplotlib.pyplot as plt\n",
    "import scipy\n",
    "from tqdm import tqdm_notebook as pbar\n",
    "from viz import MOResultsVisualizer\n",
    "from ipywidgets import interact, interactive, fixed, interact_manual\n",
    "import ipywidgets as widgets\n",
    "import neurophox\n",
    "from neurophox.numpy import *\n",
    "from neurophox.tensorflow import *\n",
    "\n",
    "from neurophox.ml import LinearMultiModelRunner\n",
    "\n",
    "# Comment this out if you do not have latex (or associated requirements) installed\n",
    "plt.rc('text', usetex=True)\n",
    "plt.rc('font', **{'family': 'serif', 'serif': ['Charter']})\n",
    "plt.rcParams['mathtext.fontset'] = 'dejavuserif'\n",
    "\n",
    "import warnings\n",
    "from collections import namedtuple\n",
    "\n",
    "warnings.filterwarnings('ignore')\n",
    "\n",
    "# neurophox imports\n",
    "\n",
    "# test_mesh = interactive(RMNumpy, units=(1,5))\n",
    "# test_mesh.plot()\n"
   ]
  },
  {
   "cell_type": "code",
   "execution_count": null,
   "metadata": {
    "ExecuteTime": {
     "end_time": "2024-02-04T03:44:56.270399710Z",
     "start_time": "2024-02-04T03:44:56.145374780Z"
    },
    "jupyter": {
     "outputs_hidden": false
    }
   },
   "outputs": [],
   "source": [
    "#single mvm test\n",
    "max = 128\n",
    "min = 3\n",
    "test_mesh = 0\n",
    "units = max // 2\n",
    "num_layers = units\n",
    "rng = np.random.default_rng(0xdeadbeef)\n",
    "test_val = rng.integers(0, units)\n",
    "# init_method = widgets.Dropdown(options=['haar_rect', 'random_theta']).value\n",
    "init_method = 'random_theta'\n",
    "display(init_method)\n",
    "# @interact(units=(3,128), num_layers=(3,128), test_val=(0,max))\n",
    "\n",
    "# def gen_test_mesh(units,num_layers,test_val):\n",
    "test_mesh = RMNumpy(units, num_layers=num_layers, phi_init=init_method)\n",
    "# test_mesh.plot(plt)\n",
    "\n",
    "plt.figure(dpi=200, figsize=(10, 5))\n",
    "plt.imshow(np.abs(test_mesh.propagate(np.eye(units)[test_val]).squeeze()).T, cmap='hot')\n",
    "plt.ylabel(\"Index ($n$)\")\n",
    "plt.xlabel(\"Layer ($\\ell$)\")\n",
    "plt.title(f'Propagation for {units}x{num_layers} {init_method}')\n",
    "\n",
    "# gammavals = np.array(  [[4.73716227, 2.17789493, 6.00926144]] )\n",
    "# thetavals = np.array(  [[4.73716227, 2.17789493, 6.00926144, 1,1]] )\n",
    "# phivals = np.array(  [[4.73716227, 2.17789493, 6.00926144,1,1]] )"
   ]
  },
  {
   "cell_type": "code",
   "execution_count": null,
   "metadata": {
    "ExecuteTime": {
     "end_time": "2024-02-04T03:44:56.273562416Z",
     "start_time": "2024-02-04T03:44:56.271808361Z"
    },
    "jupyter": {
     "outputs_hidden": false
    }
   },
   "outputs": [],
   "source": [
    "arbitrary_multiply_matrix = scipy.stats.unitary_group.rvs(units,random_state=rng,)\n",
    "Dataset = namedtuple('Dataset', ['X', 'y'])\n",
    "for i in range(arbitrary_multiply_matrix.shape[0]):\n",
    "    num = rng.random(1, np.floating)\n",
    "    arbitrary_multiply_matrix[i][i] = num.astype(np.float64)\n",
    "X = []\n",
    "Y = []\n",
    "for i in range(20):\n",
    "    x = rng.random((units,units), dtype=np.floating)\n",
    "    y = x * arbitrary_multiply_matrix\n",
    "    X.append(x)\n",
    "    Y.append(y.astype(np.float64))\n",
    "arbitrary_multiply_matrix = arbitrary_multiply_matrix.astype(np.float64)\n",
    "\n",
    "print(type(arbitrary_multiply_matrix[0][0]))"
   ]
  },
  {
   "cell_type": "code",
   "execution_count": null,
   "metadata": {
    "ExecuteTime": {
     "end_time": "2024-02-04T03:46:04.118241054Z",
     "start_time": "2024-02-04T03:44:56.275218103Z"
    },
    "jupyter": {
     "outputs_hidden": false
    }
   },
   "outputs": [],
   "source": [
    "HIGH_RATE = 0.01\n",
    "LOW_RATE = 0.002\n",
    "mr = LinearMultiModelRunner(experiment_name=f\"rm-prm-\",\n",
    "                            layer_names=[\"layer0\"],\n",
    "                            layers= [RM(units, num_layers=num_layers,phi_init=init_method)],\n",
    "                            batch_size = 20,\n",
    "                            optimizer=tf.keras.optimizers.Adam(learning_rate=HIGH_RATE),\n",
    "                            logdir=\"/tmp/tensorboard/neurophox/\")\n",
    "%load_ext tensorboard\n",
    "%tensorboard --logdir /tmp/tensorboard/neurophox  --host 0.0.0.0 --reload_interval 2\n",
    "mr.run(50, arbitrary_multiply_matrix, pbar)\n",
    "\n"
   ]
  },
  {
   "cell_type": "code",
   "execution_count": null,
   "metadata": {
    "jupyter": {
     "outputs_hidden": false
    }
   },
   "outputs": [],
   "source": [
    "print(dir(mr))\n",
    "print(f'loss : {mr.losses[\"layer0\"][len(mr.losses[\"layer0\"])-1]}')\n",
    "plt.figure()\n",
    "fig, axes = plt.subplots(2, 2, dpi=500)\n",
    "\n",
    "viz = MOResultsVisualizer('rm', mr.results[\"layer0\"])\n",
    "viz.plot_theta_checkerboard(axes[0, 0], plt, -1)\n",
    "viz.plot_error(axes[0, 1], plt, -1)\n",
    "\n",
    "#axes[1, 0].text(-0.2, 1.1, r'(\\textbf{d})', transform=axes[0, 0].transAxes, size=10)"
   ]
  },
  {
   "cell_type": "code",
   "execution_count": null,
   "metadata": {},
   "outputs": [],
   "source": []
  }
 ],
 "metadata": {
  "kernelspec": {
   "display_name": "Python 3 (ipykernel)",
   "language": "python",
   "name": "python3"
  },
  "language_info": {
   "codemirror_mode": {
    "name": "ipython",
    "version": 3
   },
   "file_extension": ".py",
   "mimetype": "text/x-python",
   "name": "python",
   "nbconvert_exporter": "python",
   "pygments_lexer": "ipython3",
   "version": "3.11.8"
  }
 },
 "nbformat": 4,
 "nbformat_minor": 4
}
